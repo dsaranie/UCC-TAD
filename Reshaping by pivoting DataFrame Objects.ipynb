{
 "cells": [
  {
   "cell_type": "markdown",
   "id": "07349c9f",
   "metadata": {},
   "source": [
    "<center> <h1 style=\"color : #008B8B\"> Remodelación y Tablas Dinámicas </h1> </center>"
   ]
  },
  {
   "cell_type": "markdown",
   "id": "84d2e6d4",
   "metadata": {},
   "source": [
    "<h2 style=\"color : #8FBC8F\"> Remodelación al pivotar objetos DataFrame </h2>"
   ]
  },
  {
   "cell_type": "markdown",
   "id": "417bdce8",
   "metadata": {},
   "source": [
    "\n",
    "\n",
    "<p>Una Tabla Pivot en Pandas es una excelente herramienta que nos permite resumir una o mas variables numericas basadas en dos otras variables categoricas. Una tabla Pivot en Pandas puede ser creada usando el comando pandas.pivot_table\n",
    "\n",
    "Los datos a menudo se almacenan en el formato denominado \"apilado\" o \"registro\",veamos a continuacion:</p>\n"
   ]
  },
  {
   "cell_type": "code",
   "execution_count": null,
   "id": "c4e54c13",
   "metadata": {},
   "outputs": [],
   "source": [
    "df # \"df\" siendo esta nuestra variable para imprimir el set de datos\n",
    "\n",
    "   date           variable     value\n",
    "0  2000-01-03        A         0.469112\n",
    "1  2000-01-04        A        -0.282863\n",
    "2  2000-01-05        A        -1.509059\n",
    "3  2000-01-03        B        -1.135632\n",
    "4  2000-01-04        B         1.212112\n",
    "5  2000-01-05        B        -0.173215\n",
    "6  2000-01-03        C         0.119209\n",
    "7  2000-01-04        C        -1.044236\n",
    "8  2000-01-05        C        -0.861849\n",
    "9  2000-01-03        D        -2.104569\n",
    "10 2000-01-04        D        -0.494929\n",
    "11 2000-01-05        D         1.071804"
   ]
  },
  {
   "cell_type": "markdown",
   "id": "f80d00f5",
   "metadata": {},
   "source": [
    "<p>En este primer apartado veremos como seleccionar valores especificos, alterar el orden de las filas y columnas de un set de datos para que estos se adapten mejor a la interpretacion que queremos obtener de la data\n",
    "\n",
    "Anteriormente vimos como los valores A, B, C y D estan ordenados de forma vertical de arriba hacia abajo. Podemos selecionar valores especificos del set de datos al ingresar el siguiente comando:</p>"
   ]
  },
  {
   "cell_type": "code",
   "execution_count": null,
   "id": "b757f631",
   "metadata": {},
   "outputs": [],
   "source": [
    "df[df[\"variable\"] == \"A\"]\n",
    "\n",
    "#Aca estamos indicando extraer del data frame de la columna \"variable\" todos los valores correspondientes a \"A\"\n",
    "\n",
    "    date         variable     value\n",
    "0 2000-01-03        A         0.469112\n",
    "1 2000-01-04        A        -0.282863\n",
    "2 2000-01-05        A        -1.509059"
   ]
  },
  {
   "cell_type": "markdown",
   "id": "ef8f560e",
   "metadata": {},
   "source": [
    "<p> Ahora, para cambiar el orden de las columnas y filas de nuestro set de datos podemos utilizar el metodo DataFrame.pivot() o bien df.pivot()</p>"
   ]
  },
  {
   "cell_type": "code",
   "execution_count": null,
   "id": "fea95c37",
   "metadata": {},
   "outputs": [],
   "source": [
    "df.pivot(index=\"date\", columns=\"variable\", values=\"value\")\n",
    "\n",
    "#aca le estamos diciendo el valor que queremos en cada las columnas o filas\n",
    "#siendo \"date\" nuestra columna inicial, \"Variable\" las columnas y como valor \"values\"\n",
    "\n",
    "   X--->variable           A         B         C         D\n",
    "\n",
    "   Y    date                                              \n",
    "        2000-01-03      0.469112 -1.135632  0.119209 -2.104569\n",
    "        2000-01-04     -0.282863  1.212112 -1.044236 -0.494929\n",
    "        2000-01-05     -1.509059 -0.173215 -0.861849  1.071804"
   ]
  },
  {
   "cell_type": "markdown",
   "id": "e736b1da",
   "metadata": {},
   "source": [
    "<h2 style=\"color : #8FBC8F\"> Remodelando, Apilando y Desapilando </h2>"
   ]
  },
  {
   "cell_type": "markdown",
   "id": "f4f40a96",
   "metadata": {},
   "source": [
    "<p>En esta seccion haremos uso de los metodos stack y unstack.\n",
    "La función stack () se utiliza para apilar los niveles prescritos de las columnas al índice, es decir la columna se apila por filas.</p>\n",
    "\n"
   ]
  },
  {
   "cell_type": "markdown",
   "id": "3516503f",
   "metadata": {},
   "source": [
    "<p>Al remodelar los datos usando la función stack () en pandas, los datos se convierten en formato apilado, es decir, la columna se apila por filas. \n",
    "Cuando hay más de un encabezado de columna, podemos apilar el encabezado de columna específico según el nivel especificado. \n",
    "Para ellos utilizaremos el comando stacked_df=df.stack()</p>\n"
   ]
  },
  {
   "cell_type": "markdown",
   "id": "9633cfda",
   "metadata": {},
   "source": [
    "<img SRC=\"apilar.png\"/>\n",
    "<img SRC=\"reshaping_stack.png\"/>"
   ]
  },
  {
   "cell_type": "markdown",
   "id": "8adc3a95",
   "metadata": {},
   "source": [
    "<p>La función unstack () en pandas convierte los datos en formato no apilado y para ello utilizamos el comando unstacked_df = stacked_df.unstack()\n",
    "</p>\n",
    "\n",
    "<img SRC=\"despilar.png\"/>\n",
    "<img SRC=\"reshaping_unstack.png\"/>\n"
   ]
  },
  {
   "cell_type": "markdown",
   "id": "68c2346d",
   "metadata": {},
   "source": [
    " <h3 style=\"color : #20B2AA\"> Múltiples niveles </h3>\n",
    "\n",
    "<p>También puede apilar o desapilar más de un nivel a la vez pasando una lista de niveles, \n",
    "en cuyo caso el resultado final es como si cada nivel de la lista se procesara individualmente</p>"
   ]
  },
  {
   "cell_type": "markdown",
   "id": "19d2f984",
   "metadata": {},
   "source": [
    "<img SRC=\"pandas-dataframe-stack-3.png\"/>"
   ]
  },
  {
   "cell_type": "markdown",
   "id": "bc7dacf9",
   "metadata": {},
   "source": [
    "<h3 style=\"color : #20B2AA\"> Datos Faltantes </h3>"
   ]
  },
  {
   "cell_type": "markdown",
   "id": "346ee163",
   "metadata": {},
   "source": [
    "<p> El desapilado puede resultar en valores perdidos si los subgrupos no tienen el mismo conjunto de etiquetas. \n",
    "Los valores faltantes se reemplazarán con el valor de relleno predeterminado para ese tipo de datos, \n",
    "NaNpara flotante, NaTpara fecha y hora, etc. \n",
    "\n",
    "Alternativamente, unstack toma un argumento fill_value opcional para especificar el valor de los datos faltantes"
   ]
  },
  {
   "cell_type": "markdown",
   "id": "012861eb",
   "metadata": {},
   "source": [
    "<h2 style=\"color : #8FBC8F\"> Remodelación por fusión </h2>"
   ]
  },
  {
   "cell_type": "markdown",
   "id": "4c659627",
   "metadata": {},
   "source": [
    "<p>La remodelación de un dato de ancho a largo en pandas python se realiza con la función melt ()</p>\n"
   ]
  },
  {
   "cell_type": "markdown",
   "id": "c985529a",
   "metadata": {},
   "source": [
    "<p>Ejemplo:\n",
    "    \n",
    "    df2=pd.melt(df,id_vars=['countries'],var_name='metrics', value_name='values')\n",
    "    \n",
    "    \n",
    "    Aca, el marco de datos \"df\" se pasa a la función melt ()\n",
    "    \n",
    "    id_vars es la variable que debe dejarse inalterada, que es \"países\"\n",
    "    var_name son los nombres de las columnas, así que lo llamamos 'métricas'\n",
    "    value_name son sus valores, así que lo nombramos como 'valores'\n",
    "</p>"
   ]
  },
  {
   "cell_type": "markdown",
   "id": "ed8811fa",
   "metadata": {},
   "source": [
    " <img SRC=\"melt.png\"/>"
   ]
  },
  {
   "cell_type": "markdown",
   "id": "1e3d6c6e",
   "metadata": {},
   "source": [
    "<h2 style=\"color : #8FBC8F\"> Combinando con estadísticas y GroupBy </h2>"
   ]
  },
  {
   "cell_type": "markdown",
   "id": "e982992e",
   "metadata": {},
   "source": [
    "<p>GroupBy de Pandas es una función que le permite dividir sus datos en grupos separados\n",
    "para realizar cálculos para un mejor análisis.\n",
    "GroupBy nos permite agrupar nuestros datos en función de diferentes características y tener una idea más precisa sobre sus datos\n",
    "\n",
    "A continuación se muestra la syntaxis de groupby(), esta función toma varios parámetros que se explican a continuación y devuelve objetos GroupBy que contienen información sobre los grupos</p>"
   ]
  },
  {
   "cell_type": "markdown",
   "id": "c9e57308",
   "metadata": {},
   "source": [
    " <img SRC=\"group by.png\"/>"
   ]
  },
  {
   "cell_type": "markdown",
   "id": "27594d88",
   "metadata": {},
   "source": [
    "<p>\n",
    "<ol>\n",
    "<li>by - Lista de nombres de columnas para agrupar</li>\n",
    "<li>axis- Predeterminado a 0. Toma 0 o 'índice', 1 o 'columnas'</li>\n",
    "<li>level - Utilizado con MultiIndex.</li>\n",
    "<li>as_index - otput agrupado estilo sql.</li>\n",
    "<li>sort- Predeterminado a Verdadero. Especificar si ordenar por grupo</li>\n",
    "<li>group_keys - agregar claves de grupo o no</li>\n",
    "<li>squeeze - depricado en nuevas versiones</li>\n",
    "<li>observed - Esto solo se aplica si alguno de los meros es categórico.</li>\n",
    "<li>dropna- Predeterminado a Falso. Use True para soltar las teclas None / Nan on sory</li>\n",
    "</ol>\n",
    "\n",
    "</p>"
   ]
  },
  {
   "cell_type": "markdown",
   "id": "b8896339",
   "metadata": {},
   "source": [
    "<h2 style=\"color : #8FBC8F\"> Tablas dinámicas </h2>"
   ]
  },
  {
   "cell_type": "markdown",
   "id": "b7591f0c",
   "metadata": {},
   "source": [
    "<p>La función pivot_table() se puede utilizar para crear tablas dinámicas al estilo de una hoja de cálculo. \n",
    "Sin embargo se necesitan varios argumentos:\n",
    "\n",
    "    data: un objeto DataFrame.\n",
    "\n",
    "    values: una columna o una lista de columnas para agregar.\n",
    "\n",
    "    index: una columna, Agrupador, matriz que tiene la misma longitud que los datos o una lista de ellos. \n",
    "\n",
    "    columns: una columna, Agrupador, matriz que tiene la misma longitud que los datos o una lista de ellos.\n",
    "\n",
    "    aggfunc: función que se utilizará para la agregación, por defecto numpy.mean.\n",
    "\n",
    "    \n",
    "Veamos el siguiente ejemplo:\n",
    "</p>\n",
    "    "
   ]
  },
  {
   "cell_type": "markdown",
   "id": "8c084266",
   "metadata": {},
   "source": [
    " <img SRC=\"antes de pivot.png\"/>"
   ]
  },
  {
   "cell_type": "markdown",
   "id": "b5417b33",
   "metadata": {},
   "source": [
    "<p>pd.pivot_table(df, index=['Exam','Subject'], aggfunc='mean')\n",
    "\n",
    "Entonces, la tabla dinámica con la función agregada media será:</p>\n"
   ]
  },
  {
   "cell_type": "markdown",
   "id": "47f37a19",
   "metadata": {},
   "source": [
    " <img SRC=\"pivot.png\"/>"
   ]
  },
  {
   "cell_type": "code",
   "execution_count": null,
   "id": "7978f21a",
   "metadata": {},
   "outputs": [],
   "source": []
  }
 ],
 "metadata": {
  "kernelspec": {
   "display_name": "Python 3",
   "language": "python",
   "name": "python3"
  },
  "language_info": {
   "codemirror_mode": {
    "name": "ipython",
    "version": 3
   },
   "file_extension": ".py",
   "mimetype": "text/x-python",
   "name": "python",
   "nbconvert_exporter": "python",
   "pygments_lexer": "ipython3",
   "version": "3.8.8"
  }
 },
 "nbformat": 4,
 "nbformat_minor": 5
}
